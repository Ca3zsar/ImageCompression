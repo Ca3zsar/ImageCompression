{
 "cells": [
  {
   "cell_type": "code",
   "execution_count": 1,
   "metadata": {
    "execution": {
     "iopub.execute_input": "2024-06-20T19:27:38.560354Z",
     "iopub.status.busy": "2024-06-20T19:27:38.559845Z",
     "iopub.status.idle": "2024-06-20T19:27:46.158062Z",
     "shell.execute_reply": "2024-06-20T19:27:46.157292Z",
     "shell.execute_reply.started": "2024-06-20T19:27:38.560317Z"
    },
    "tags": []
   },
   "outputs": [],
   "source": [
    "\n",
    "import os\n",
    "import warnings\n",
    "warnings.filterwarnings(\"ignore\", category=UserWarning, module=\"tensorflow\")\n",
    "\n",
    "import numpy as np\n",
    "\n",
    "os.environ[\"TF_FORCE_GPU_ALLOW_GROWTH\"] = \"true\"\n",
    "os.environ[\"TF_GPU_ALLOCATOR\"] = \"cuda_malloc_async\"\n",
    "os.environ[\"TF_CPP_MIN_LOG_LEVEL\"] = \"3\"\n",
    "\n",
    "import matplotlib.pyplot as plt\n",
    "import tensorflow as tf\n",
    "import tensorflow_compression as tfc\n",
    "import tensorflow_datasets as tfds\n",
    "\n",
    "from tensorflow.compat.v1 import ConfigProto\n",
    "from tensorflow.compat.v1 import InteractiveSession\n",
    "\n",
    "# tf.config.run_functions_e|gerly(False)\n",
    "\n",
    "config = ConfigProto()\n",
    "config.gpu_options.allow_growth = True\n",
    "session = InteractiveSession(config=config)\n",
    "\n",
    "tf.autograph.set_verbosity(\n",
    "    level=3, alsologtostdout=False\n",
    ")\n",
    "\n",
    "tf.compat.v1.logging.set_verbosity(tf.compat.v1.logging.ERROR)\n",
    "\n",
    "import keras\n",
    "# tf.debugging.enable_check_numerics()"
   ]
  },
  {
   "cell_type": "code",
   "execution_count": 2,
   "metadata": {
    "execution": {
     "iopub.execute_input": "2024-06-20T19:27:46.161343Z",
     "iopub.status.busy": "2024-06-20T19:27:46.160003Z",
     "iopub.status.idle": "2024-06-20T19:27:46.165685Z",
     "shell.execute_reply": "2024-06-20T19:27:46.164986Z",
     "shell.execute_reply.started": "2024-06-20T19:27:46.161303Z"
    },
    "tags": []
   },
   "outputs": [],
   "source": [
    "args = {\n",
    "    \"patch_size\" : 256,\n",
    "    \"batch_size\" : 16,\n",
    "    \"num_filters\" : 512,\n",
    "    \"latent_dims\" : 64,\n",
    "    \"lambda_value\" : 1,\n",
    "    \"num_epochs\" : 100,\n",
    "    \"steps_per_epoch\" : 500,\n",
    "    \"checkpoint_dir\" : \"models/checkpoints/\",\n",
    "    \"model_dir\" : \"models/\",\n",
    "    \"model_name\" : \"end_to_end_v21\",\n",
    "}"
   ]
  },
  {
   "cell_type": "code",
   "execution_count": 3,
   "metadata": {
    "execution": {
     "iopub.execute_input": "2024-06-20T19:27:46.166911Z",
     "iopub.status.busy": "2024-06-20T19:27:46.166643Z",
     "iopub.status.idle": "2024-06-20T19:27:46.231042Z",
     "shell.execute_reply": "2024-06-20T19:27:46.230425Z",
     "shell.execute_reply.started": "2024-06-20T19:27:46.166889Z"
    },
    "tags": []
   },
   "outputs": [],
   "source": [
    "from current_try import EndToEndModel, train, AnalysisTransform, SynthesisTransform\n",
    "from helpers.benchmark import compute_benchmark, reconstruct, plot_image"
   ]
  },
  {
   "cell_type": "code",
   "execution_count": 4,
   "metadata": {
    "execution": {
     "iopub.execute_input": "2024-06-20T19:27:46.232228Z",
     "iopub.status.busy": "2024-06-20T19:27:46.231938Z",
     "iopub.status.idle": "2024-06-20T19:30:00.559626Z",
     "shell.execute_reply": "2024-06-20T19:30:00.558709Z",
     "shell.execute_reply.started": "2024-06-20T19:27:46.232203Z"
    },
    "tags": []
   },
   "outputs": [
    {
     "name": "stdout",
     "output_type": "stream",
     "text": [
      "Result for model end_to_end_v21_plus\n",
      "\n",
      "    SSIM: 0.8057297468185425\n",
      "    MS-SSIM: 0.9284363985061646\n",
      "    PSNR: 28.307388305664062 db\n",
      "    bpp: 0.07216477394104004\n",
      "    \n"
     ]
    }
   ],
   "source": [
    "for number in range(21, 22):\n",
    "    args[\"model_name\"] = f\"end_to_end_v{number}_plus\"\n",
    "    try:\n",
    "        model = tf.keras.models.load_model(args[\"model_dir\"] + args[\"model_name\"], compile=True, custom_objects=\n",
    "                                       {\"analysis_transform\" :AnalysisTransform ,\n",
    "                                        \"synthesis_transform\" : SynthesisTransform})\n",
    "    except:\n",
    "        print(f\"Model {args['model_name']} could not be loaded!\")\n",
    "        continue\n",
    "    \n",
    "    ssim, ms_ssim, psnr, bpp = compute_benchmark(\"/home/jovyan/workspace/ImageCompression/data/clic/\", reconstruct, model, plot=False, save=True, save_path=args[\"model_name\"])\n",
    "    print(f\"Result for model {args['model_name']}\")\n",
    "    print(f\"\"\"\n",
    "    SSIM: {ssim}\n",
    "    MS-SSIM: {ms_ssim}\n",
    "    PSNR: {psnr} db\n",
    "    bpp: {bpp}\n",
    "    \"\"\")\n",
    "    "
   ]
  },
  {
   "cell_type": "code",
   "execution_count": 5,
   "metadata": {
    "execution": {
     "iopub.execute_input": "2024-06-20T19:30:00.561549Z",
     "iopub.status.busy": "2024-06-20T19:30:00.561065Z",
     "iopub.status.idle": "2024-06-20T19:30:00.565267Z",
     "shell.execute_reply": "2024-06-20T19:30:00.564438Z",
     "shell.execute_reply.started": "2024-06-20T19:30:00.561510Z"
    },
    "tags": []
   },
   "outputs": [],
   "source": [
    "# model = tf.keras.models.load_model(args[\"model_dir\"] + args[\"model_name\"], compile=True, custom_objects=\n",
    "#                                    {\"analysis_transform\" :AnalysisTransform ,\n",
    "#                                     \"synthesis_transform\" : SynthesisTransform})"
   ]
  },
  {
   "cell_type": "code",
   "execution_count": 6,
   "metadata": {
    "execution": {
     "iopub.execute_input": "2024-06-20T19:30:00.566794Z",
     "iopub.status.busy": "2024-06-20T19:30:00.566410Z",
     "iopub.status.idle": "2024-06-20T19:30:00.570147Z",
     "shell.execute_reply": "2024-06-20T19:30:00.569503Z",
     "shell.execute_reply.started": "2024-06-20T19:30:00.566760Z"
    },
    "tags": []
   },
   "outputs": [],
   "source": [
    "# new_model = EndToEndModel(args[\"lambda_value\"], args[\"num_filters\"], args[\"latent_dims\"])\n",
    "# new_model = model"
   ]
  },
  {
   "cell_type": "code",
   "execution_count": 7,
   "metadata": {
    "execution": {
     "iopub.execute_input": "2024-06-20T19:30:00.573511Z",
     "iopub.status.busy": "2024-06-20T19:30:00.572906Z",
     "iopub.status.idle": "2024-06-20T19:30:00.577102Z",
     "shell.execute_reply": "2024-06-20T19:30:00.576296Z",
     "shell.execute_reply.started": "2024-06-20T19:30:00.573475Z"
    },
    "tags": []
   },
   "outputs": [],
   "source": [
    "# new_model.build((None, None, None, 3))"
   ]
  },
  {
   "cell_type": "code",
   "execution_count": 8,
   "metadata": {
    "execution": {
     "iopub.execute_input": "2024-06-20T19:30:00.578264Z",
     "iopub.status.busy": "2024-06-20T19:30:00.578057Z",
     "iopub.status.idle": "2024-06-20T19:30:00.581243Z",
     "shell.execute_reply": "2024-06-20T19:30:00.580542Z",
     "shell.execute_reply.started": "2024-06-20T19:30:00.578242Z"
    },
    "tags": []
   },
   "outputs": [],
   "source": [
    "# new_model.load_weights(args[\"checkpoint_dir\"] + args[\"model_name\"] + \".h5\")"
   ]
  },
  {
   "cell_type": "code",
   "execution_count": 9,
   "metadata": {
    "execution": {
     "iopub.execute_input": "2024-06-20T19:30:00.582263Z",
     "iopub.status.busy": "2024-06-20T19:30:00.581993Z",
     "iopub.status.idle": "2024-06-20T19:30:00.586042Z",
     "shell.execute_reply": "2024-06-20T19:30:00.585459Z",
     "shell.execute_reply.started": "2024-06-20T19:30:00.582241Z"
    },
    "tags": []
   },
   "outputs": [],
   "source": [
    "# compute_benchmark(\"/home/jovyan/workspace/ImageCompression/data/benchmark/\", reconstruct, new_model, )"
   ]
  }
 ],
 "metadata": {
  "kernelspec": {
   "display_name": "saturn (Python 3)",
   "language": "python",
   "name": "python3"
  },
  "language_info": {
   "codemirror_mode": {
    "name": "ipython",
    "version": 3
   },
   "file_extension": ".py",
   "mimetype": "text/x-python",
   "name": "python",
   "nbconvert_exporter": "python",
   "pygments_lexer": "ipython3",
   "version": "3.10.13"
  }
 },
 "nbformat": 4,
 "nbformat_minor": 4
}
