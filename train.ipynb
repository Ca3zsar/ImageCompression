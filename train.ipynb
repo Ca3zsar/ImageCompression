{
 "cells": [
  {
   "cell_type": "code",
   "execution_count": 1,
   "metadata": {},
   "outputs": [
    {
     "name": "stderr",
     "output_type": "stream",
     "text": [
      "2024-03-31 16:51:45.523322: I tensorflow/core/util/port.cc:113] oneDNN custom operations are on. You may see slightly different numerical results due to floating-point round-off errors from different computation orders. To turn them off, set the environment variable `TF_ENABLE_ONEDNN_OPTS=0`.\n",
      "2024-03-31 16:51:45.723681: E external/local_xla/xla/stream_executor/cuda/cuda_dnn.cc:9261] Unable to register cuDNN factory: Attempting to register factory for plugin cuDNN when one has already been registered\n",
      "2024-03-31 16:51:45.723724: E external/local_xla/xla/stream_executor/cuda/cuda_fft.cc:607] Unable to register cuFFT factory: Attempting to register factory for plugin cuFFT when one has already been registered\n",
      "2024-03-31 16:51:45.753371: E external/local_xla/xla/stream_executor/cuda/cuda_blas.cc:1515] Unable to register cuBLAS factory: Attempting to register factory for plugin cuBLAS when one has already been registered\n",
      "2024-03-31 16:51:45.812481: I tensorflow/core/platform/cpu_feature_guard.cc:182] This TensorFlow binary is optimized to use available CPU instructions in performance-critical operations.\n",
      "To enable the following instructions: AVX2 AVX_VNNI FMA, in other operations, rebuild TensorFlow with the appropriate compiler flags.\n",
      "2024-03-31 16:51:46.775799: W tensorflow/compiler/tf2tensorrt/utils/py_utils.cc:38] TF-TRT Warning: Could not find TensorRT\n"
     ]
    }
   ],
   "source": [
    "import tensorflow as tf\n",
    "import numpy as np\n",
    "import matplotlib.pyplot as plt\n",
    "\n",
    "from architectures.fc_models import binary_out"
   ]
  },
  {
   "cell_type": "code",
   "execution_count": 2,
   "metadata": {},
   "outputs": [],
   "source": [
    "PATCH_SIZE = 32\n",
    "BINARY_SIZE = 64\n",
    "STEPS = 4"
   ]
  },
  {
   "cell_type": "code",
   "execution_count": 3,
   "metadata": {},
   "outputs": [],
   "source": [
    "def get_data():\n",
    "    from keras.datasets import cifar10\n",
    "\n",
    "    (x_train, y_train), (x_test, y_test) = cifar10.load_data()\n",
    "    x_train = x_train.astype('float32') / 255.\n",
    "    x_test = x_test.astype('float32') / 255.\n",
    "\n",
    "    x_train = (x_train - 0.5) * 2\n",
    "    x_test = (x_test - 0.5) * 2\n",
    "\n",
    "    return x_train, x_test"
   ]
  },
  {
   "cell_type": "code",
   "execution_count": 4,
   "metadata": {},
   "outputs": [],
   "source": [
    "def l2_loss(y_true, y_pred):\n",
    "    # normalize the loss by the number of pixels\n",
    "    loss = tf.reduce_mean(tf.square(y_true - y_pred))\n",
    "    return loss"
   ]
  },
  {
   "cell_type": "code",
   "execution_count": 5,
   "metadata": {},
   "outputs": [],
   "source": [
    "class Decoder(tf.keras.Model):\n",
    "    def __init__(self, binary_size, patch_size):\n",
    "        super(Decoder, self).__init__()\n",
    "        self.binary_size = binary_size\n",
    "        self.patch_size = patch_size\n",
    "    \n",
    "        self.custom_layers = [\n",
    "            tf.keras.layers.Dense(128, activation='tanh'),\n",
    "            tf.keras.layers.Dense(128, activation='tanh'),\n",
    "            tf.keras.layers.Dense(128, activation='tanh'),\n",
    "            tf.keras.layers.Dense(patch_size*patch_size*3, activation='tanh')\n",
    "        ]\n",
    "\n",
    "    def call(self, inputs):\n",
    "        x = inputs\n",
    "        for layer in self.custom_layers:\n",
    "            x = layer(x)\n",
    "        x = tf.reshape(x, [-1, self.patch_size, self.patch_size, 3])\n",
    "        return x"
   ]
  },
  {
   "cell_type": "code",
   "execution_count": 6,
   "metadata": {},
   "outputs": [],
   "source": [
    "def resBlock(inputs, binary_size, patch_size):\n",
    "    binary = None\n",
    "    \n",
    "    inputs = tf.reshape(inputs, [-1, PATCH_SIZE * PATCH_SIZE * 3])\n",
    "    x = tf.keras.layers.Dense(128, activation='tanh')(inputs)\n",
    "    x = tf.keras.layers.Dense(128, activation='tanh')(x)\n",
    "    x = tf.keras.layers.Dense(128, activation='tanh')(x)\n",
    "    x = tf.keras.layers.Dense(binary_size, activation=binary_out, use_bias=False, trainable=True)(x)\n",
    "    binary = x\n",
    "\n",
    "    encoder = [inputs, binary]\n",
    "    \n",
    "    decoder = Decoder(binary_size, patch_size)\n",
    "    x = decoder(x)\n",
    "\n",
    "    return x, encoder, decoder"
   ]
  },
  {
   "cell_type": "code",
   "execution_count": 7,
   "metadata": {},
   "outputs": [],
   "source": [
    "class ResidualModel(tf.keras.Model):\n",
    "    def train_step(self, data):\n",
    "        # Unpack the data. Its structure depends on your model and\n",
    "        # on what you pass to `fit()`.\n",
    "        x, y = data\n",
    "\n",
    "        with tf.GradientTape() as tape:\n",
    "            y_pred = self(x, training=True)  # Forward pass\n",
    "            # Compute the loss value\n",
    "            # (the loss function is configured in `compile()`)\n",
    "            loss = self.compiled_loss(y, y_pred, regularization_losses=self.losses)\n",
    "\n",
    "        # Compute gradients\n",
    "        trainable_vars = self.trainable_variables\n",
    "        gradients = tape.gradient(loss, trainable_vars)\n",
    "        # Update weights\n",
    "        self.optimizer.apply_gradients(zip(gradients, trainable_vars))\n",
    "        # Update metrics (includes the metric that tracks the loss)\n",
    "        self.compiled_metrics.update_state(y, y_pred)\n",
    "        # Return a dict mapping metric names to current value\n",
    "        return {m.name: m.result() for m in self.metrics}\n",
    "    "
   ]
  },
  {
   "cell_type": "code",
   "execution_count": 8,
   "metadata": {},
   "outputs": [],
   "source": [
    "def make_model(patch_size, binary_size, iterations):\n",
    "    x = x_new = input_layer = tf.keras.layers.Input(shape=(patch_size, patch_size, 3))\n",
    "    encoders, decoders = [], []\n",
    "    # add the residual blocks\n",
    "    for _ in range(iterations):\n",
    "        x_new, encoder, decoder = resBlock(x_new, binary_size, patch_size)\n",
    "        x_new = tf.keras.layers.Add()([x, x_new])\n",
    "        encoders.append(encoder)\n",
    "        decoders.append(decoder)\n",
    "        \n",
    "    x = tf.reshape(x_new, [-1, PATCH_SIZE, PATCH_SIZE, 3])\n",
    "\n",
    "    model = ResidualModel(inputs=input_layer, outputs=x)\n",
    "    return model, encoders, decoders"
   ]
  },
  {
   "cell_type": "code",
   "execution_count": 9,
   "metadata": {},
   "outputs": [
    {
     "name": "stderr",
     "output_type": "stream",
     "text": [
      "2024-03-31 16:51:48.650738: I external/local_xla/xla/stream_executor/cuda/cuda_executor.cc:887] could not open file to read NUMA node: /sys/bus/pci/devices/0000:01:00.0/numa_node\n",
      "Your kernel may have been built without NUMA support.\n",
      "2024-03-31 16:51:48.772197: I external/local_xla/xla/stream_executor/cuda/cuda_executor.cc:887] could not open file to read NUMA node: /sys/bus/pci/devices/0000:01:00.0/numa_node\n",
      "Your kernel may have been built without NUMA support.\n",
      "2024-03-31 16:51:48.772781: I external/local_xla/xla/stream_executor/cuda/cuda_executor.cc:887] could not open file to read NUMA node: /sys/bus/pci/devices/0000:01:00.0/numa_node\n",
      "Your kernel may have been built without NUMA support.\n",
      "2024-03-31 16:51:48.776451: I external/local_xla/xla/stream_executor/cuda/cuda_executor.cc:887] could not open file to read NUMA node: /sys/bus/pci/devices/0000:01:00.0/numa_node\n",
      "Your kernel may have been built without NUMA support.\n",
      "2024-03-31 16:51:48.777304: I external/local_xla/xla/stream_executor/cuda/cuda_executor.cc:887] could not open file to read NUMA node: /sys/bus/pci/devices/0000:01:00.0/numa_node\n",
      "Your kernel may have been built without NUMA support.\n",
      "2024-03-31 16:51:48.777773: I external/local_xla/xla/stream_executor/cuda/cuda_executor.cc:887] could not open file to read NUMA node: /sys/bus/pci/devices/0000:01:00.0/numa_node\n",
      "Your kernel may have been built without NUMA support.\n",
      "2024-03-31 16:51:48.978820: I external/local_xla/xla/stream_executor/cuda/cuda_executor.cc:887] could not open file to read NUMA node: /sys/bus/pci/devices/0000:01:00.0/numa_node\n",
      "Your kernel may have been built without NUMA support.\n",
      "2024-03-31 16:51:48.979339: I external/local_xla/xla/stream_executor/cuda/cuda_executor.cc:887] could not open file to read NUMA node: /sys/bus/pci/devices/0000:01:00.0/numa_node\n",
      "Your kernel may have been built without NUMA support.\n",
      "2024-03-31 16:51:48.979354: I tensorflow/core/common_runtime/gpu/gpu_device.cc:2022] Could not identify NUMA node of platform GPU id 0, defaulting to 0.  Your kernel may not have been built with NUMA support.\n",
      "2024-03-31 16:51:48.979871: I external/local_xla/xla/stream_executor/cuda/cuda_executor.cc:887] could not open file to read NUMA node: /sys/bus/pci/devices/0000:01:00.0/numa_node\n",
      "Your kernel may have been built without NUMA support.\n",
      "2024-03-31 16:51:48.979934: I tensorflow/core/common_runtime/gpu/gpu_device.cc:1929] Created device /job:localhost/replica:0/task:0/device:GPU:0 with 1753 MB memory:  -> device: 0, name: NVIDIA GeForce RTX 3050 Ti Laptop GPU, pci bus id: 0000:01:00.0, compute capability: 8.6\n"
     ]
    }
   ],
   "source": [
    "network, encoders, decoders = make_model(PATCH_SIZE, BINARY_SIZE, STEPS)"
   ]
  },
  {
   "cell_type": "code",
   "execution_count": 10,
   "metadata": {},
   "outputs": [],
   "source": [
    "network.compile(optimizer='adam', loss='mse')\n",
    "x_train, x_test = get_data()"
   ]
  },
  {
   "cell_type": "code",
   "execution_count": 11,
   "metadata": {},
   "outputs": [
    {
     "name": "stdout",
     "output_type": "stream",
     "text": [
      "Model: \"residual_model\"\n",
      "__________________________________________________________________________________________________\n",
      " Layer (type)                Output Shape                 Param #   Connected to                  \n",
      "==================================================================================================\n",
      " input_1 (InputLayer)        [(None, 32, 32, 3)]          0         []                            \n",
      "                                                                                                  \n",
      " tf.reshape (TFOpLambda)     (None, 3072)                 0         ['input_1[0][0]']             \n",
      "                                                                                                  \n",
      " dense (Dense)               (None, 128)                  393344    ['tf.reshape[0][0]']          \n",
      "                                                                                                  \n",
      " dense_1 (Dense)             (None, 128)                  16512     ['dense[0][0]']               \n",
      "                                                                                                  \n",
      " dense_2 (Dense)             (None, 128)                  16512     ['dense_1[0][0]']             \n",
      "                                                                                                  \n",
      " dense_3 (Dense)             (None, 16)                   2048      ['dense_2[0][0]']             \n",
      "                                                                                                  \n",
      " decoder (Decoder)           (None, 32, 32, 3)            431488    ['dense_3[0][0]']             \n",
      "                                                                                                  \n",
      " add (Add)                   (None, 32, 32, 3)            0         ['input_1[0][0]',             \n",
      "                                                                     'decoder[0][0]']             \n",
      "                                                                                                  \n",
      " tf.reshape_1 (TFOpLambda)   (None, 3072)                 0         ['add[0][0]']                 \n",
      "                                                                                                  \n",
      " dense_8 (Dense)             (None, 128)                  393344    ['tf.reshape_1[0][0]']        \n",
      "                                                                                                  \n",
      " dense_9 (Dense)             (None, 128)                  16512     ['dense_8[0][0]']             \n",
      "                                                                                                  \n",
      " dense_10 (Dense)            (None, 128)                  16512     ['dense_9[0][0]']             \n",
      "                                                                                                  \n",
      " dense_11 (Dense)            (None, 16)                   2048      ['dense_10[0][0]']            \n",
      "                                                                                                  \n",
      " decoder_1 (Decoder)         (None, 32, 32, 3)            431488    ['dense_11[0][0]']            \n",
      "                                                                                                  \n",
      " add_1 (Add)                 (None, 32, 32, 3)            0         ['input_1[0][0]',             \n",
      "                                                                     'decoder_1[0][0]']           \n",
      "                                                                                                  \n",
      " tf.reshape_2 (TFOpLambda)   (None, 3072)                 0         ['add_1[0][0]']               \n",
      "                                                                                                  \n",
      " dense_16 (Dense)            (None, 128)                  393344    ['tf.reshape_2[0][0]']        \n",
      "                                                                                                  \n",
      " dense_17 (Dense)            (None, 128)                  16512     ['dense_16[0][0]']            \n",
      "                                                                                                  \n",
      " dense_18 (Dense)            (None, 128)                  16512     ['dense_17[0][0]']            \n",
      "                                                                                                  \n",
      " dense_19 (Dense)            (None, 16)                   2048      ['dense_18[0][0]']            \n",
      "                                                                                                  \n",
      " decoder_2 (Decoder)         (None, 32, 32, 3)            431488    ['dense_19[0][0]']            \n",
      "                                                                                                  \n",
      " add_2 (Add)                 (None, 32, 32, 3)            0         ['input_1[0][0]',             \n",
      "                                                                     'decoder_2[0][0]']           \n",
      "                                                                                                  \n",
      " tf.reshape_3 (TFOpLambda)   (None, 3072)                 0         ['add_2[0][0]']               \n",
      "                                                                                                  \n",
      " dense_24 (Dense)            (None, 128)                  393344    ['tf.reshape_3[0][0]']        \n",
      "                                                                                                  \n",
      " dense_25 (Dense)            (None, 128)                  16512     ['dense_24[0][0]']            \n",
      "                                                                                                  \n",
      " dense_26 (Dense)            (None, 128)                  16512     ['dense_25[0][0]']            \n",
      "                                                                                                  \n",
      " dense_27 (Dense)            (None, 16)                   2048      ['dense_26[0][0]']            \n",
      "                                                                                                  \n",
      " decoder_3 (Decoder)         (None, 32, 32, 3)            431488    ['dense_27[0][0]']            \n",
      "                                                                                                  \n",
      " add_3 (Add)                 (None, 32, 32, 3)            0         ['input_1[0][0]',             \n",
      "                                                                     'decoder_3[0][0]']           \n",
      "                                                                                                  \n",
      " tf.reshape_4 (TFOpLambda)   (None, 32, 32, 3)            0         ['add_3[0][0]']               \n",
      "                                                                                                  \n",
      "==================================================================================================\n",
      "Total params: 3439616 (13.12 MB)\n",
      "Trainable params: 3439616 (13.12 MB)\n",
      "Non-trainable params: 0 (0.00 Byte)\n",
      "__________________________________________________________________________________________________\n"
     ]
    }
   ],
   "source": [
    "network.summary()"
   ]
  },
  {
   "cell_type": "code",
   "execution_count": 12,
   "metadata": {},
   "outputs": [
    {
     "name": "stdout",
     "output_type": "stream",
     "text": [
      "Epoch 1/10\n"
     ]
    },
    {
     "name": "stderr",
     "output_type": "stream",
     "text": [
      "2024-03-31 16:51:55.108909: I external/local_tsl/tsl/platform/default/subprocess.cc:304] Start cannot spawn child process: No such file or directory\n",
      "2024-03-31 16:51:55.509666: I external/local_xla/xla/service/service.cc:168] XLA service 0x7f72b4ad4f40 initialized for platform CUDA (this does not guarantee that XLA will be used). Devices:\n",
      "2024-03-31 16:51:55.509725: I external/local_xla/xla/service/service.cc:176]   StreamExecutor device (0): NVIDIA GeForce RTX 3050 Ti Laptop GPU, Compute Capability 8.6\n",
      "2024-03-31 16:51:55.527810: I tensorflow/compiler/mlir/tensorflow/utils/dump_mlir_util.cc:269] disabling MLIR crash reproducer, set env var `MLIR_CRASH_REPRODUCER_DIRECTORY` to enable.\n",
      "2024-03-31 16:51:55.569909: I external/local_xla/xla/stream_executor/cuda/cuda_dnn.cc:454] Loaded cuDNN version 8902\n",
      "WARNING: All log messages before absl::InitializeLog() is called are written to STDERR\n",
      "I0000 00:00:1711893115.660767   37355 device_compiler.h:186] Compiled cluster using XLA!  This line is logged at most once for the lifetime of the process.\n"
     ]
    },
    {
     "name": "stdout",
     "output_type": "stream",
     "text": [
      "1563/1563 [==============================] - 26s 12ms/step - loss: 4.5234e-05\n",
      "Epoch 2/10\n",
      "1563/1563 [==============================] - 18s 12ms/step - loss: 8.3936e-07\n",
      "Epoch 3/10\n",
      "1563/1563 [==============================] - 19s 12ms/step - loss: 7.4749e-06\n",
      "Epoch 4/10\n",
      "1563/1563 [==============================] - 18s 12ms/step - loss: 6.7889e-08\n",
      "Epoch 5/10\n",
      "1563/1563 [==============================] - 19s 12ms/step - loss: 3.7575e-08\n",
      "Epoch 6/10\n",
      "1563/1563 [==============================] - 18s 11ms/step - loss: 2.3241e-08\n",
      "Epoch 7/10\n",
      "1563/1563 [==============================] - 19s 12ms/step - loss: 1.4739e-08\n",
      "Epoch 8/10\n",
      "1563/1563 [==============================] - 20s 13ms/step - loss: 9.3429e-09\n",
      "Epoch 9/10\n",
      "1563/1563 [==============================] - 20s 13ms/step - loss: 6.0187e-09\n",
      "Epoch 10/10\n",
      "1563/1563 [==============================] - 19s 12ms/step - loss: 4.0467e-09\n"
     ]
    },
    {
     "data": {
      "text/plain": [
       "<keras.src.callbacks.History at 0x7f73a0177890>"
      ]
     },
     "execution_count": 12,
     "metadata": {},
     "output_type": "execute_result"
    }
   ],
   "source": [
    "network.fit(x_train, x_train, epochs=10)"
   ]
  },
  {
   "cell_type": "code",
   "execution_count": 21,
   "metadata": {},
   "outputs": [
    {
     "name": "stdout",
     "output_type": "stream",
     "text": [
      "1/1 [==============================] - 0s 45ms/step\n",
      "1/1 [==============================] - 0s 40ms/step\n",
      "1/1 [==============================] - 0s 40ms/step\n",
      "1/1 [==============================] - 0s 47ms/step\n",
      "1/1 [==============================] - 0s 45ms/step\n",
      "1/1 [==============================] - 0s 41ms/step\n",
      "1/1 [==============================] - 0s 48ms/step\n",
      "1/1 [==============================] - 0s 48ms/step\n"
     ]
    }
   ],
   "source": [
    "bits = []\n",
    "for encoded in encoders:\n",
    "    input_layer = tf.keras.layers.Input(shape=(PATCH_SIZE, PATCH_SIZE, 3))\n",
    "    model = tf.keras.Model(inputs=encoded[0], outputs=encoded[-1])\n",
    "    bits.append(model.predict(x_train[:1].reshape(-1, PATCH_SIZE*PATCH_SIZE*3)))\n",
    "\n",
    "patches = []\n",
    "for index, decoded in enumerate(decoders):\n",
    "\n",
    "    input_layer = tf.keras.layers.Input(shape=(BINARY_SIZE,))\n",
    "    model = tf.keras.Model(inputs=input_layer, outputs=decoded(input_layer))\n",
    "    patches.append(model.predict(bits[index]))\n",
    "\n",
    "patches = np.array(patches).reshape(-1, PATCH_SIZE, PATCH_SIZE, 3)"
   ]
  },
  {
   "cell_type": "code",
   "execution_count": 32,
   "metadata": {},
   "outputs": [
    {
     "data": {
      "image/png": "[encoded data removed]",
      "text/plain": [
       "<Figure size 400x400 with 4 Axes>"
      ]
     },
     "metadata": {},
     "output_type": "display_data"
    },
    {
     "data": {
      "image/png": "[encoded data removed]",
      "text/plain": [
       "<Figure size 400x400 with 4 Axes>"
      ]
     },
     "metadata": {},
     "output_type": "display_data"
    }
   ],
   "source": [
    "plt.figure(figsize=(STEPS, STEPS))\n",
    "for i in range(STEPS):\n",
    "    plt.subplot(STEPS, STEPS, i + 1)\n",
    "    plt.imshow(np.clip(x_train[0], 0, 1))\n",
    "    plt.axis('off')\n",
    "plt.show()\n",
    "\n",
    "reconstructed = np.zeros((PATCH_SIZE, PATCH_SIZE, 3))\n",
    "\n",
    "plt.figure(figsize=(STEPS, STEPS))\n",
    "for i in range(STEPS):\n",
    "    plt.subplot(STEPS, STEPS, i + 1)\n",
    "    reconstructed += patches[i]\n",
    "    plt.imshow(np.clip(reconstructed,0 ,1))\n",
    "    plt.axis('off')\n",
    "plt.show()\n"
   ]
  }
 ],
 "metadata": {
  "kernelspec": {
   "display_name": "Python 3",
   "language": "python",
   "name": "python3"
  },
  "language_info": {
   "codemirror_mode": {
    "name": "ipython",
    "version": 3
   },
   "file_extension": ".py",
   "mimetype": "text/x-python",
   "name": "python",
   "nbconvert_exporter": "python",
   "pygments_lexer": "ipython3",
   "version": "3.11.8"
  }
 },
 "nbformat": 4,
 "nbformat_minor": 2
}
