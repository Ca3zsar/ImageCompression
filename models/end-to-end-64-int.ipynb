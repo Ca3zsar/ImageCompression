{
 "cells": [
  {
   "cell_type": "code",
   "execution_count": 1,
   "metadata": {
    "execution": {
     "iopub.execute_input": "2024-05-06T14:01:30.499687Z",
     "iopub.status.busy": "2024-05-06T14:01:30.499484Z",
     "iopub.status.idle": "2024-05-06T14:01:36.836718Z",
     "shell.execute_reply": "2024-05-06T14:01:36.835999Z",
     "shell.execute_reply.started": "2024-05-06T14:01:30.499666Z"
    },
    "tags": []
   },
   "outputs": [],
   "source": [
    "\n",
    "import os\n",
    "import warnings\n",
    "warnings.filterwarnings(\"ignore\", category=UserWarning, module=\"tensorflow\")\n",
    "\n",
    "import numpy as np\n",
    "\n",
    "os.environ[\"TF_FORCE_GPU_ALLOW_GROWTH\"] = \"true\"\n",
    "os.environ[\"TF_GPU_ALLOCATOR\"] = \"cuda_malloc_async\"\n",
    "os.environ[\"TF_CPP_MIN_LOG_LEVEL\"] = \"3\"\n",
    "\n",
    "import matplotlib.pyplot as plt\n",
    "import tensorflow as tf\n",
    "import tensorflow_compression as tfc\n",
    "import tensorflow_datasets as tfds\n",
    "\n",
    "from tensorflow.compat.v1 import ConfigProto\n",
    "from tensorflow.compat.v1 import InteractiveSession\n",
    "\n",
    "# tf.config.run_functions_eagerly(False)\n",
    "\n",
    "config = ConfigProto()\n",
    "config.gpu_options.allow_growth = True\n",
    "session = InteractiveSession(config=config)\n",
    "\n",
    "tf.autograph.set_verbosity(\n",
    "    level=3, alsologtostdout=False\n",
    ")\n",
    "\n",
    "tf.compat.v1.logging.set_verbosity(tf.compat.v1.logging.ERROR)\n",
    "\n",
    "# tf.debugging.enable_check_numerics()"
   ]
  },
  {
   "cell_type": "code",
   "execution_count": 2,
   "metadata": {
    "execution": {
     "iopub.execute_input": "2024-05-06T14:01:36.838813Z",
     "iopub.status.busy": "2024-05-06T14:01:36.838285Z",
     "iopub.status.idle": "2024-05-06T14:01:36.843165Z",
     "shell.execute_reply": "2024-05-06T14:01:36.842261Z",
     "shell.execute_reply.started": "2024-05-06T14:01:36.838785Z"
    },
    "tags": []
   },
   "outputs": [],
   "source": [
    "PATCH_SIZE = 256\n",
    "BATCH_SIZE = 16\n",
    "\n",
    "LAMBDA_VALUE = 0.1\n",
    "FILTERS = 256\n",
    "LATENT = 64\n",
    "\n",
    "STEPS_PER_EPOCH = 500\n",
    "EPOCHS = 100\n",
    "\n",
    "MODEL_NAME = f\"end-to-end-{LATENT}-int\"\n",
    "MODEL_PATH = f\"models/{MODEL_NAME}/\"\n"
   ]
  },
  {
   "cell_type": "code",
   "execution_count": 3,
   "metadata": {
    "execution": {
     "iopub.execute_input": "2024-05-06T14:01:36.844610Z",
     "iopub.status.busy": "2024-05-06T14:01:36.844270Z",
     "iopub.status.idle": "2024-05-06T14:01:36.850900Z",
     "shell.execute_reply": "2024-05-06T14:01:36.850075Z",
     "shell.execute_reply.started": "2024-05-06T14:01:36.844573Z"
    },
    "tags": []
   },
   "outputs": [],
   "source": [
    "def make_analysis_transform(num_filters, latent_space):\n",
    "  \"\"\"Creates the analysis (encoder) transform.\"\"\"\n",
    "  return tf.keras.Sequential([\n",
    "      tf.keras.layers.Lambda(lambda x: x / 255.),\n",
    "      tfc.SignalConv2D(\n",
    "        num_filters, (9, 9), name=\"layer_0\", corr=True, strides_down=4,\n",
    "        padding=\"same_zeros\", use_bias=True,\n",
    "        activation=tfc.GDN(name=\"gdn_0\")),\n",
    "      tfc.SignalConv2D(\n",
    "        num_filters, (5, 5), name=\"layer_1\", corr=True, strides_down=2,\n",
    "        padding=\"same_zeros\", use_bias=True,\n",
    "        activation=tfc.GDN(name=\"gdn_1\")),\n",
    "      tfc.SignalConv2D(\n",
    "        latent_space, (5, 5), name=\"layer_2\", corr=True, strides_down=2,\n",
    "        padding=\"same_zeros\", use_bias=False,\n",
    "        activation=None)\n",
    "  ], name=\"analysis_transform\")\n"
   ]
  },
  {
   "cell_type": "code",
   "execution_count": 4,
   "metadata": {
    "execution": {
     "iopub.execute_input": "2024-05-06T14:01:36.852027Z",
     "iopub.status.busy": "2024-05-06T14:01:36.851761Z",
     "iopub.status.idle": "2024-05-06T14:01:36.857281Z",
     "shell.execute_reply": "2024-05-06T14:01:36.856675Z",
     "shell.execute_reply.started": "2024-05-06T14:01:36.852005Z"
    },
    "tags": []
   },
   "outputs": [],
   "source": [
    "def make_synthesis_transform(num_filters):\n",
    "  \"\"\"Creates the synthesis (decoder) transform.\"\"\"\n",
    "  return tf.keras.Sequential([\n",
    "      tfc.SignalConv2D(\n",
    "        num_filters, (5, 5), name=\"layer_0\", corr=False, strides_up=2,\n",
    "        padding=\"same_zeros\", use_bias=True,\n",
    "        activation=tfc.GDN(name=\"igdn_0\", inverse=True)),\n",
    "      tfc.SignalConv2D(\n",
    "        num_filters, (5, 5), name=\"layer_1\", corr=False, strides_up=2,\n",
    "        padding=\"same_zeros\", use_bias=True,\n",
    "        activation=tfc.GDN(name=\"igdn_1\", inverse=True)),\n",
    "      tfc.SignalConv2D(\n",
    "        3, (9, 9), name=\"layer_2\", corr=False, strides_up=4,\n",
    "        padding=\"same_zeros\", use_bias=True,\n",
    "        activation=None),\n",
    "      tf.keras.layers.Lambda(lambda x: x * 255.),\n",
    "  ], name=\"synthesis_transform\")\n"
   ]
  },
  {
   "cell_type": "code",
   "execution_count": 5,
   "metadata": {
    "execution": {
     "iopub.execute_input": "2024-05-06T14:01:36.858602Z",
     "iopub.status.busy": "2024-05-06T14:01:36.858086Z",
     "iopub.status.idle": "2024-05-06T14:01:36.863333Z",
     "shell.execute_reply": "2024-05-06T14:01:36.862723Z",
     "shell.execute_reply.started": "2024-05-06T14:01:36.858579Z"
    },
    "tags": []
   },
   "outputs": [],
   "source": [
    "class ModelSaveCheckpoint(tf.keras.callbacks.Callback):\n",
    "  def __init__(self, model, name):\n",
    "    super(ModelSaveCheckpoint, self).__init__()\n",
    "    self.model = model\n",
    "    self.name = name\n",
    "\n",
    "  def on_epoch_end(self, epoch, logs=None):\n",
    "    if epoch % 5 == 0:\n",
    "      self.model.save_weights(\"models/checkpoints/{}/{}_{}.h5\".format(self.name, self.name, epoch))"
   ]
  },
  {
   "cell_type": "code",
   "execution_count": 6,
   "metadata": {
    "execution": {
     "iopub.execute_input": "2024-05-06T14:01:36.864669Z",
     "iopub.status.busy": "2024-05-06T14:01:36.864257Z",
     "iopub.status.idle": "2024-05-06T14:01:36.871133Z",
     "shell.execute_reply": "2024-05-06T14:01:36.870539Z",
     "shell.execute_reply.started": "2024-05-06T14:01:36.864636Z"
    },
    "tags": []
   },
   "outputs": [],
   "source": [
    "class CompressionTrainer(tf.keras.Model):\n",
    "  \"\"\"Model that trains a compressor/decompressor for .\"\"\"\n",
    "\n",
    "  def __init__(self, latent_dims, num_filters, target_rate, target_distortion):\n",
    "    super().__init__()\n",
    "    self.analysis_transform = make_analysis_transform(num_filters, latent_dims)\n",
    "    self.synthesis_transform = make_synthesis_transform(num_filters)\n",
    "    self.prior = tfc.DeepFactorized(batch_shape=(latent_dims,), dtype=tf.float32)\n",
    "    self.target_rate = target_rate\n",
    "    self.target_distortion = target_distortion\n",
    "\n",
    "  def call(self, x, training):\n",
    "    \"\"\"Computes rate and distortion losses.\"\"\"\n",
    "  \n",
    "    # Compute latent space representation y, perturb it and model its entropy,\n",
    "    # then compute the reconstructed pixel-level representation x_hat.\n",
    "    y = self.analysis_transform(x)\n",
    "    y = tf.round(y)\n",
    "    entropy_model = tfc.ContinuousBatchedEntropyModel(\n",
    "        self.prior, coding_rank=3, compression=False)\n",
    "    \n",
    "    y_tilde, bits = entropy_model(y, training=training)\n",
    "    x_tilde = self.synthesis_transform(y_tilde)\n",
    "\n",
    "    num_pixels = tf.cast(tf.reduce_prod(tf.shape(x)[:-1]), bits.dtype)\n",
    "    bpp = tf.reduce_sum(bits) / num_pixels\n",
    "\n",
    "    rate = bpp\n",
    "\n",
    "    distortion = tf.reduce_mean(tf.math.squared_difference(x, x_tilde))\n",
    "  \n",
    "    return dict(rate=rate, distortion=distortion)"
   ]
  },
  {
   "cell_type": "code",
   "execution_count": 7,
   "metadata": {
    "execution": {
     "iopub.execute_input": "2024-05-06T14:01:36.873291Z",
     "iopub.status.busy": "2024-05-06T14:01:36.873037Z",
     "iopub.status.idle": "2024-05-06T14:01:36.877378Z",
     "shell.execute_reply": "2024-05-06T14:01:36.876808Z",
     "shell.execute_reply.started": "2024-05-06T14:01:36.873270Z"
    },
    "tags": []
   },
   "outputs": [],
   "source": [
    "def check_image_size(image, patchsize):\n",
    "  shape = tf.shape(image)\n",
    "  return shape[0] >= patchsize and shape[1] >= patchsize and shape[-1] == 3\n",
    "\n",
    "def crop_image(image, patchsize):\n",
    "  image = tf.image.random_crop(image, (patchsize, patchsize, 3))\n",
    "  return tf.cast(image, tf.keras.mixed_precision.global_policy().compute_dtype)\n"
   ]
  },
  {
   "cell_type": "code",
   "execution_count": 8,
   "metadata": {
    "execution": {
     "iopub.execute_input": "2024-05-06T14:01:36.878400Z",
     "iopub.status.busy": "2024-05-06T14:01:36.878150Z",
     "iopub.status.idle": "2024-05-06T14:01:36.882743Z",
     "shell.execute_reply": "2024-05-06T14:01:36.882074Z",
     "shell.execute_reply.started": "2024-05-06T14:01:36.878379Z"
    },
    "tags": []
   },
   "outputs": [],
   "source": [
    "def get_dataset(name, split):\n",
    "    with tf.device(\"/cpu:0\"):\n",
    "        dataset = tfds.load(name, split=split, shuffle_files=True)\n",
    "        if split == \"train\":\n",
    "            dataset = dataset.repeat()\n",
    "        dataset = dataset.filter(\n",
    "            lambda x: check_image_size(x[\"image\"], PATCH_SIZE))\n",
    "        dataset = dataset.map(\n",
    "            lambda x: crop_image(x[\"image\"], PATCH_SIZE))\n",
    "    return dataset"
   ]
  },
  {
   "cell_type": "code",
   "execution_count": 9,
   "metadata": {
    "execution": {
     "iopub.execute_input": "2024-05-06T14:01:36.883796Z",
     "iopub.status.busy": "2024-05-06T14:01:36.883523Z",
     "iopub.status.idle": "2024-05-06T14:01:37.155551Z",
     "shell.execute_reply": "2024-05-06T14:01:37.154917Z",
     "shell.execute_reply.started": "2024-05-06T14:01:36.883774Z"
    },
    "tags": []
   },
   "outputs": [],
   "source": [
    "training_dataset = get_dataset(\"clic\", \"train\")\n",
    "validation_dataset = get_dataset(\"clic\", \"validation\")"
   ]
  },
  {
   "cell_type": "code",
   "execution_count": 10,
   "metadata": {
    "execution": {
     "iopub.execute_input": "2024-05-06T14:01:37.156806Z",
     "iopub.status.busy": "2024-05-06T14:01:37.156508Z",
     "iopub.status.idle": "2024-05-06T14:01:39.038990Z",
     "shell.execute_reply": "2024-05-06T14:01:39.038312Z",
     "shell.execute_reply.started": "2024-05-06T14:01:37.156781Z"
    },
    "tags": []
   },
   "outputs": [],
   "source": [
    "image = validation_dataset.skip(1).take(1)\n",
    "image = next(iter(image))"
   ]
  },
  {
   "cell_type": "code",
   "execution_count": 11,
   "metadata": {
    "execution": {
     "iopub.execute_input": "2024-05-06T14:01:39.040689Z",
     "iopub.status.busy": "2024-05-06T14:01:39.040351Z",
     "iopub.status.idle": "2024-05-06T14:01:39.357086Z",
     "shell.execute_reply": "2024-05-06T14:01:39.356260Z",
     "shell.execute_reply.started": "2024-05-06T14:01:39.040667Z"
    },
    "tags": []
   },
   "outputs": [
    {
     "data": {
      "text/plain": [
       "<matplotlib.image.AxesImage at 0x7f62b81deb00>"
      ]
     },
     "execution_count": 11,
     "metadata": {},
     "output_type": "execute_result"
    },
    {
     "data": {
      "image/png": "[encoded data removed]",
      "text/plain": [
       "<Figure size 640x480 with 1 Axes>"
      ]
     },
     "metadata": {},
     "output_type": "display_data"
    }
   ],
   "source": [
    "plt.imshow(image.numpy().astype(np.uint8))"
   ]
  },
  {
   "cell_type": "code",
   "execution_count": 12,
   "metadata": {
    "execution": {
     "iopub.execute_input": "2024-05-06T14:01:39.358356Z",
     "iopub.status.busy": "2024-05-06T14:01:39.358059Z",
     "iopub.status.idle": "2024-05-06T14:01:39.363369Z",
     "shell.execute_reply": "2024-05-06T14:01:39.362485Z",
     "shell.execute_reply.started": "2024-05-06T14:01:39.358331Z"
    },
    "tags": []
   },
   "outputs": [],
   "source": [
    "def pass_through_loss(_, x):\n",
    "  # Since rate and distortion are unsupervised, the loss doesn't need a target.\n",
    "  return x\n",
    "\n",
    "def make_compression_trainer(target_rate, target_distortion, lmbda,  latent_dims, num_filters):\n",
    "  trainer = CompressionTrainer(latent_dims, num_filters, target_rate, target_distortion)\n",
    "  \n",
    "  trainer.compile(\n",
    "    optimizer=tf.keras.optimizers.Adam(learning_rate=1e-4),\n",
    "    # Just pass through rate and distortion as losses/metrics.\n",
    "    loss=dict(rate=pass_through_loss, distortion=pass_through_loss),\n",
    "    loss_weights=dict(rate=1., distortion=lmbda)\n",
    "  )\n",
    "  return trainer"
   ]
  },
  {
   "cell_type": "code",
   "execution_count": 13,
   "metadata": {
    "execution": {
     "iopub.execute_input": "2024-05-06T14:01:39.364619Z",
     "iopub.status.busy": "2024-05-06T14:01:39.364348Z",
     "iopub.status.idle": "2024-05-06T14:01:39.368054Z",
     "shell.execute_reply": "2024-05-06T14:01:39.367448Z",
     "shell.execute_reply.started": "2024-05-06T14:01:39.364597Z"
    },
    "tags": []
   },
   "outputs": [],
   "source": [
    "def add_rd_targets(image):\n",
    "  return image, dict(rate=0., distortion=0.)\n"
   ]
  },
  {
   "cell_type": "code",
   "execution_count": 14,
   "metadata": {
    "execution": {
     "iopub.execute_input": "2024-05-06T14:01:39.369158Z",
     "iopub.status.busy": "2024-05-06T14:01:39.368899Z",
     "iopub.status.idle": "2024-05-06T14:01:39.373039Z",
     "shell.execute_reply": "2024-05-06T14:01:39.372333Z",
     "shell.execute_reply.started": "2024-05-06T14:01:39.369136Z"
    },
    "tags": []
   },
   "outputs": [],
   "source": [
    "def regulate_lr(epoch, lr):\n",
    "    lrs = [1e-4, 1e-5, 1e-6, 1e-7]\n",
    "    step = 20\n",
    "    count = epoch // step\n",
    "    if count < len(lrs):\n",
    "        return lrs[count]\n",
    "    return lrs[-1]"
   ]
  },
  {
   "cell_type": "code",
   "execution_count": 15,
   "metadata": {
    "execution": {
     "iopub.execute_input": "2024-05-06T14:01:39.374166Z",
     "iopub.status.busy": "2024-05-06T14:01:39.373742Z",
     "iopub.status.idle": "2024-05-06T14:01:39.378271Z",
     "shell.execute_reply": "2024-05-06T14:01:39.377489Z",
     "shell.execute_reply.started": "2024-05-06T14:01:39.374134Z"
    },
    "tags": []
   },
   "outputs": [],
   "source": [
    "os.makedirs(MODEL_PATH, exist_ok=True)\n",
    "os.makedirs(f\"models/checkpoints/{MODEL_NAME}\", exist_ok=True)"
   ]
  },
  {
   "cell_type": "code",
   "execution_count": null,
   "metadata": {
    "execution": {
     "iopub.execute_input": "2024-05-06T14:01:39.379462Z",
     "iopub.status.busy": "2024-05-06T14:01:39.379175Z",
     "iopub.status.idle": "2024-05-06T14:21:13.602904Z",
     "shell.execute_reply": "2024-05-06T14:21:13.599626Z",
     "shell.execute_reply.started": "2024-05-06T14:01:39.379442Z"
    },
    "tags": []
   },
   "outputs": [
    {
     "name": "stderr",
     "output_type": "stream",
     "text": [
      "WARNING:absl:Computing quantization offsets using offset heuristic within a tf.function. Ideally, the offset heuristic should only be used to determine offsets once after training. Depending on the prior, estimating the offset might be computationally expensive.\n"
     ]
    },
    {
     "name": "stdout",
     "output_type": "stream",
     "text": [
      "Model: \"compression_trainer\"\n",
      "_________________________________________________________________\n",
      " Layer (type)                Output Shape              Param #   \n",
      "=================================================================\n",
      " analysis_transform (Sequen  (None, 16, 16, 64)        2658816   \n",
      " tial)                                                           \n",
      "                                                                 \n",
      " synthesis_transform (Seque  (None, 256, 256, 3)       2658819   \n",
      " ntial)                                                          \n",
      "                                                                 \n",
      "=================================================================\n",
      "Total params: 5319427 (20.29 MB)\n",
      "Trainable params: 5319427 (20.29 MB)\n",
      "Non-trainable params: 0 (0.00 Byte)\n",
      "_________________________________________________________________\n",
      "Epoch 13/100\n",
      "370/500 [=====================>........] - ETA: 1:26 - loss: 23158.3652 - distortion_loss: 723.6835 - rate_loss: 0.4935"
     ]
    }
   ],
   "source": [
    "def train_model(lmbda, target_rate, target_distortion):\n",
    "  trainer = make_compression_trainer(target_rate, target_distortion, lmbda, LATENT, FILTERS)\n",
    "  trainer.build((None, 256, 256,  3))\n",
    "  trainer.summary()\n",
    "\n",
    "  scheduler = tf.keras.callbacks.ReduceLROnPlateau(monitor='val_loss', factor=0.1, patience=5, min_lr=1e-8, min_delta=1)\n",
    "#   scheduler = tf.keras.callbacks.LearningRateScheduler(\n",
    "#         regulate_lr, verbose=1)\n",
    "\n",
    "  history = trainer.fit(\n",
    "      training_dataset.map(add_rd_targets).batch(BATCH_SIZE).prefetch(16),\n",
    "      epochs=EPOCHS,\n",
    "      verbose=1,\n",
    "      use_multiprocessing=True,\n",
    "      workers=4,\n",
    "      steps_per_epoch=STEPS_PER_EPOCH,\n",
    "      callbacks=[\n",
    "          tf.keras.callbacks.TerminateOnNaN(),\n",
    "          tf.keras.callbacks.TensorBoard(\n",
    "              log_dir=MODEL_PATH,\n",
    "              histogram_freq=1, update_freq=\"epoch\"),\n",
    "          tf.keras.callbacks.BackupAndRestore(MODEL_PATH),\n",
    "          ModelSaveCheckpoint(trainer, MODEL_NAME),\n",
    "          scheduler\n",
    "      ],\n",
    "      validation_data=validation_dataset.map(add_rd_targets).batch(BATCH_SIZE))\n",
    "  \n",
    "  return trainer, history\n",
    "\n",
    "trainer, history = train_model(lmbda=LAMBDA_VALUE, target_rate=0, target_distortion=0)"
   ]
  },
  {
   "cell_type": "code",
   "execution_count": null,
   "metadata": {
    "execution": {
     "iopub.status.busy": "2024-05-06T14:21:13.603866Z",
     "iopub.status.idle": "2024-05-06T14:21:13.604358Z",
     "shell.execute_reply": "2024-05-06T14:21:13.604181Z",
     "shell.execute_reply.started": "2024-05-06T14:21:13.604161Z"
    },
    "tags": []
   },
   "outputs": [],
   "source": [
    "trainer.save_weights(f\"models/{MODEL_NAME}.h5\")"
   ]
  },
  {
   "cell_type": "code",
   "execution_count": null,
   "metadata": {
    "execution": {
     "iopub.execute_input": "2024-05-06T14:21:42.497749Z",
     "iopub.status.busy": "2024-05-06T14:21:42.497359Z",
     "iopub.status.idle": "2024-05-06T14:21:44.014848Z",
     "shell.execute_reply": "2024-05-06T14:21:44.014010Z",
     "shell.execute_reply.started": "2024-05-06T14:21:42.497720Z"
    },
    "tags": []
   },
   "outputs": [],
   "source": [
    "trainer = make_compression_trainer(lmbda=LAMBDA_VALUE, target_rate=0., target_distortion=0, latent_dims=LATENT, num_filters=FILTERS)\n",
    "# Load the weights of the trained model.\n",
    "trainer.build((None, None, None, 3))\n",
    "trainer.load_weights(f\"models/checkpoints/{MODEL_NAME}/{MODEL_NAME}_25.h5\")\n",
    "# # # # # trainer = tf.keras.models.load_model(\"models/end-to-end-big/\", compile=False)"
   ]
  },
  {
   "cell_type": "code",
   "execution_count": null,
   "metadata": {
    "execution": {
     "iopub.execute_input": "2024-05-06T14:21:45.505414Z",
     "iopub.status.busy": "2024-05-06T14:21:45.505020Z",
     "iopub.status.idle": "2024-05-06T14:21:45.509999Z",
     "shell.execute_reply": "2024-05-06T14:21:45.509332Z",
     "shell.execute_reply.started": "2024-05-06T14:21:45.505387Z"
    },
    "tags": []
   },
   "outputs": [],
   "source": [
    "class Compressor(tf.keras.Model):\n",
    "  \"\"\"Compresses  images to strings.\"\"\"\n",
    "\n",
    "  def __init__(self, analysis_transform, entropy_model):\n",
    "    super().__init__()\n",
    "    self.analysis_transform = analysis_transform\n",
    "    self.entropy_model = entropy_model\n",
    "    self.y = None\n",
    "\n",
    "  def call(self, x):\n",
    "    self.y = self.analysis_transform(x)\n",
    "    # Also return the exact information content of each digit.\n",
    "    _, bits = self.entropy_model(self.y, training=False)\n",
    "    return self.entropy_model.compress(self.y), bits"
   ]
  },
  {
   "cell_type": "code",
   "execution_count": null,
   "metadata": {
    "execution": {
     "iopub.execute_input": "2024-05-06T14:21:45.758582Z",
     "iopub.status.busy": "2024-05-06T14:21:45.758190Z",
     "iopub.status.idle": "2024-05-06T14:21:45.763246Z",
     "shell.execute_reply": "2024-05-06T14:21:45.762357Z",
     "shell.execute_reply.started": "2024-05-06T14:21:45.758555Z"
    },
    "tags": []
   },
   "outputs": [],
   "source": [
    "class Decompressor(tf.keras.Model):\n",
    "  \"\"\"Decompresses  images from strings.\"\"\"\n",
    "\n",
    "  def __init__(self, entropy_model, synthesis_transform):\n",
    "    super().__init__()\n",
    "    self.entropy_model = entropy_model\n",
    "    self.synthesis_transform = synthesis_transform\n",
    "\n",
    "  def call(self, string):\n",
    "    y_hat = self.entropy_model.decompress(string, (), )\n",
    "    x_hat = self.synthesis_transform(y_hat)\n",
    "    return x_hat\n"
   ]
  },
  {
   "cell_type": "code",
   "execution_count": null,
   "metadata": {
    "execution": {
     "iopub.execute_input": "2024-05-06T14:21:45.938793Z",
     "iopub.status.busy": "2024-05-06T14:21:45.938419Z",
     "iopub.status.idle": "2024-05-06T14:22:07.351956Z",
     "shell.execute_reply": "2024-05-06T14:22:07.351214Z",
     "shell.execute_reply.started": "2024-05-06T14:21:45.938765Z"
    },
    "tags": []
   },
   "outputs": [],
   "source": [
    "def make_codec(trainer, **kwargs):\n",
    "  # The entropy model must be created with `compression=True` and the same\n",
    "  # instance must be shared between compressor and decompressor.\n",
    "  entropy_model = tfc.ContinuousBatchedEntropyModel(\n",
    "      trainer.prior, coding_rank=1, compression=True, **kwargs)\n",
    "  compressor = Compressor(trainer.analysis_transform, entropy_model)\n",
    "  decompressor = Decompressor(entropy_model, trainer.synthesis_transform)\n",
    "  return compressor, decompressor\n",
    "\n",
    "compressor, decompressor = make_codec(trainer, decode_sanity_check=False)\n"
   ]
  },
  {
   "cell_type": "code",
   "execution_count": null,
   "metadata": {
    "execution": {
     "iopub.execute_input": "2024-05-06T14:22:07.353993Z",
     "iopub.status.busy": "2024-05-06T14:22:07.353542Z",
     "iopub.status.idle": "2024-05-06T14:22:09.380339Z",
     "shell.execute_reply": "2024-05-06T14:22:09.379360Z",
     "shell.execute_reply.started": "2024-05-06T14:22:07.353957Z"
    },
    "tags": []
   },
   "outputs": [],
   "source": [
    "originals = validation_dataset.batch(1).take(1)\n",
    "originals = next(iter(originals))\n",
    "# originals, _ = preprocess(originals, None)"
   ]
  },
  {
   "cell_type": "code",
   "execution_count": null,
   "metadata": {
    "execution": {
     "iopub.execute_input": "2024-05-06T14:22:09.381877Z",
     "iopub.status.busy": "2024-05-06T14:22:09.381537Z",
     "iopub.status.idle": "2024-05-06T14:22:09.759416Z",
     "shell.execute_reply": "2024-05-06T14:22:09.755277Z",
     "shell.execute_reply.started": "2024-05-06T14:22:09.381841Z"
    },
    "tags": []
   },
   "outputs": [],
   "source": [
    "strings, entropies = compressor(originals)"
   ]
  },
  {
   "cell_type": "code",
   "execution_count": null,
   "metadata": {
    "execution": {
     "iopub.execute_input": "2024-05-06T14:22:09.761220Z",
     "iopub.status.busy": "2024-05-06T14:22:09.760997Z",
     "iopub.status.idle": "2024-05-06T14:22:09.766580Z",
     "shell.execute_reply": "2024-05-06T14:22:09.765609Z",
     "shell.execute_reply.started": "2024-05-06T14:22:09.761199Z"
    },
    "tags": []
   },
   "outputs": [],
   "source": [
    "print(compressor.y.shape[1:-1])\n",
    "print(strings.shape)"
   ]
  },
  {
   "cell_type": "code",
   "execution_count": null,
   "metadata": {
    "execution": {
     "iopub.execute_input": "2024-05-06T14:22:09.768337Z",
     "iopub.status.busy": "2024-05-06T14:22:09.767695Z",
     "iopub.status.idle": "2024-05-06T14:22:09.965209Z",
     "shell.execute_reply": "2024-05-06T14:22:09.964387Z",
     "shell.execute_reply.started": "2024-05-06T14:22:09.768300Z"
    },
    "tags": []
   },
   "outputs": [],
   "source": [
    "reconstructions = decompressor(strings)\n",
    "reconstructions = tf.cast(reconstructions, tf.uint8)"
   ]
  },
  {
   "cell_type": "code",
   "execution_count": null,
   "metadata": {
    "execution": {
     "iopub.execute_input": "2024-05-06T14:22:09.966912Z",
     "iopub.status.busy": "2024-05-06T14:22:09.966401Z",
     "iopub.status.idle": "2024-05-06T14:22:09.978757Z",
     "shell.execute_reply": "2024-05-06T14:22:09.978068Z",
     "shell.execute_reply.started": "2024-05-06T14:22:09.966873Z"
    },
    "tags": []
   },
   "outputs": [],
   "source": [
    "# originals = tf.image.yuv_to_rgb(originals)\n",
    "originals = tf.saturate_cast(originals, tf.uint8)"
   ]
  },
  {
   "cell_type": "code",
   "execution_count": null,
   "metadata": {
    "execution": {
     "iopub.execute_input": "2024-05-06T14:22:09.980262Z",
     "iopub.status.busy": "2024-05-06T14:22:09.979885Z",
     "iopub.status.idle": "2024-05-06T14:22:10.215800Z",
     "shell.execute_reply": "2024-05-06T14:22:10.214856Z",
     "shell.execute_reply.started": "2024-05-06T14:22:09.980233Z"
    },
    "tags": []
   },
   "outputs": [],
   "source": [
    "# Display the original and reconstructed images.\n",
    "plt.figure(figsize=(30, 30))\n",
    "for i, (original, reconstruction) in enumerate(zip(originals, reconstructions)):\n",
    "  plt.subplot(4, 8, 2 * i + 1)\n",
    "  plt.imshow(tf.squeeze(original))\n",
    "  plt.axis(\"off\")\n",
    "  plt.subplot(4, 8, 2 * i + 2)\n",
    "  plt.imshow(tf.squeeze(reconstruction))\n",
    "  plt.axis(\"off\")"
   ]
  },
  {
   "cell_type": "code",
   "execution_count": null,
   "metadata": {
    "execution": {
     "iopub.execute_input": "2024-05-06T14:22:10.217568Z",
     "iopub.status.busy": "2024-05-06T14:22:10.217085Z",
     "iopub.status.idle": "2024-05-06T14:22:10.228020Z",
     "shell.execute_reply": "2024-05-06T14:22:10.227229Z",
     "shell.execute_reply.started": "2024-05-06T14:22:10.217532Z"
    },
    "tags": []
   },
   "outputs": [],
   "source": [
    "strings = tf.reshape(strings, (1, -1))\n",
    "strings = tf.squeeze(strings).numpy()"
   ]
  },
  {
   "cell_type": "code",
   "execution_count": null,
   "metadata": {
    "execution": {
     "iopub.execute_input": "2024-05-06T14:22:10.229835Z",
     "iopub.status.busy": "2024-05-06T14:22:10.229283Z",
     "iopub.status.idle": "2024-05-06T14:22:10.237116Z",
     "shell.execute_reply": "2024-05-06T14:22:10.236273Z",
     "shell.execute_reply.started": "2024-05-06T14:22:10.229800Z"
    },
    "tags": []
   },
   "outputs": [],
   "source": [
    "bits = sum([len(string)*8 for string in strings])\n",
    "pixels = 256**2\n",
    "bits/pixels"
   ]
  },
  {
   "cell_type": "code",
   "execution_count": null,
   "metadata": {
    "execution": {
     "iopub.execute_input": "2024-05-06T14:22:10.241416Z",
     "iopub.status.busy": "2024-05-06T14:22:10.240633Z",
     "iopub.status.idle": "2024-05-06T14:22:11.140706Z",
     "shell.execute_reply": "2024-05-06T14:22:11.139734Z",
     "shell.execute_reply.started": "2024-05-06T14:22:10.241383Z"
    },
    "tags": []
   },
   "outputs": [],
   "source": [
    "tf.image.ssim(originals, reconstruction, max_val=255)"
   ]
  },
  {
   "cell_type": "code",
   "execution_count": null,
   "metadata": {
    "execution": {
     "iopub.execute_input": "2024-05-06T14:22:11.142963Z",
     "iopub.status.busy": "2024-05-06T14:22:11.141800Z",
     "iopub.status.idle": "2024-05-06T14:22:11.154340Z",
     "shell.execute_reply": "2024-05-06T14:22:11.153315Z",
     "shell.execute_reply.started": "2024-05-06T14:22:11.142927Z"
    },
    "tags": []
   },
   "outputs": [],
   "source": [
    "def pad_image(image: np.ndarray, patch_size: int):\n",
    " \n",
    "    h, w, c = image.shape\n",
    "    h_pad = (patch_size - (h % patch_size)) % patch_size\n",
    "    w_pad = (patch_size - (w % patch_size)) % patch_size\n",
    "\n",
    "    return np.pad(image, ((0, h_pad), (0, w_pad), (0, 0)), mode='edge'), h_pad, w_pad"
   ]
  },
  {
   "cell_type": "code",
   "execution_count": null,
   "metadata": {
    "execution": {
     "iopub.execute_input": "2024-05-06T14:22:11.155757Z",
     "iopub.status.busy": "2024-05-06T14:22:11.155458Z",
     "iopub.status.idle": "2024-05-06T14:22:11.165301Z",
     "shell.execute_reply": "2024-05-06T14:22:11.164190Z",
     "shell.execute_reply.started": "2024-05-06T14:22:11.155724Z"
    },
    "tags": []
   },
   "outputs": [],
   "source": [
    "def compress_image(image: np.ndarray, compressor, decompressor) -> tuple[np.ndarray, np.ndarray]:\n",
    "    patch_size = 32\n",
    "\n",
    "    # pad the image\n",
    "    image *= 255.\n",
    "    image, h_pad, w_pad = pad_image(image, patch_size)\n",
    "    \n",
    "    height, width, channels = image.shape\n",
    "    \n",
    "    # transform image to list with a single element\n",
    "    image = tf.expand_dims(image, axis=0)\n",
    "\n",
    "    strings, entropies = compressor(image)\n",
    "\n",
    "    reconstructed_image = decompressor(strings)\n",
    "    reconstructed_image = tf.squeeze(reconstructed_image)\n",
    "\n",
    "    height = height - h_pad\n",
    "    width = width - w_pad\n",
    "\n",
    "    reconstructed_image = reconstructed_image[:height, :width]\n",
    "\n",
    "    # convert reconstructed image to tensor\n",
    "    reconstructed_image = tf.convert_to_tensor(reconstructed_image)\n",
    "    reconstructed_image = tf.saturate_cast(reconstructed_image, tf.uint8)\n",
    "    \n",
    "    return reconstructed_image, strings, entropies"
   ]
  },
  {
   "cell_type": "code",
   "execution_count": null,
   "metadata": {
    "execution": {
     "iopub.execute_input": "2024-05-06T14:22:11.171886Z",
     "iopub.status.busy": "2024-05-06T14:22:11.171398Z",
     "iopub.status.idle": "2024-05-06T14:22:11.703659Z",
     "shell.execute_reply": "2024-05-06T14:22:11.702546Z",
     "shell.execute_reply.started": "2024-05-06T14:22:11.171831Z"
    },
    "tags": []
   },
   "outputs": [],
   "source": [
    "image = tf.image.decode_image(tf.io.read_file('data/ciob.png'), channels=3, dtype='float32')\n",
    "\n",
    "image_copy = image\n",
    "\n",
    "result, strings, entropies = compress_image(image_copy, compressor, decompressor)\n",
    "\n",
    "image = tf.saturate_cast(image * 255, tf.uint8)\n",
    "result = tf.saturate_cast(result, tf.uint8)"
   ]
  },
  {
   "cell_type": "code",
   "execution_count": null,
   "metadata": {
    "execution": {
     "iopub.execute_input": "2024-05-06T14:22:11.705492Z",
     "iopub.status.busy": "2024-05-06T14:22:11.705027Z",
     "iopub.status.idle": "2024-05-06T14:22:11.711102Z",
     "shell.execute_reply": "2024-05-06T14:22:11.710196Z",
     "shell.execute_reply.started": "2024-05-06T14:22:11.705458Z"
    },
    "tags": []
   },
   "outputs": [],
   "source": [
    "strings = strings.numpy()\n",
    "strings = np.reshape(strings, (-1, np.prod(strings.shape)))\n",
    "strings = np.squeeze(strings)\n",
    "\n",
    "entropies = np.reshape(entropies, (-1, np.prod(entropies.shape)))\n",
    "entropies = np.squeeze(entropies)"
   ]
  },
  {
   "cell_type": "code",
   "execution_count": null,
   "metadata": {
    "execution": {
     "iopub.execute_input": "2024-05-06T14:22:11.733345Z",
     "iopub.status.busy": "2024-05-06T14:22:11.732842Z",
     "iopub.status.idle": "2024-05-06T14:22:12.195506Z",
     "shell.execute_reply": "2024-05-06T14:22:12.192001Z",
     "shell.execute_reply.started": "2024-05-06T14:22:11.733311Z"
    },
    "tags": []
   },
   "outputs": [],
   "source": [
    "# plot both images\n",
    "plt.figure(figsize=(10, 5))\n",
    "plt.subplot(1, 2, 1)\n",
    "plt.imshow(tf.squeeze(image))\n",
    "plt.axis(\"off\")\n",
    "plt.subplot(1, 2, 2)\n",
    "plt.imshow(tf.squeeze(result))\n",
    "print(result.shape)\n",
    "print(image.shape)"
   ]
  },
  {
   "cell_type": "code",
   "execution_count": null,
   "metadata": {},
   "outputs": [],
   "source": [
    "# get luma component of image and result\n",
    "image = tf.cast(image, tf.float64) / 255.\n",
    "result = tf.cast(result, tf.float64) / 255.\n",
    "\n",
    "image = tf.image.rgb_to_yuv(image)\n",
    "result = tf.image.rgb_to_yuv(result)\n",
    "\n",
    "image = image[:, :, 0]\n",
    "result = result[:, :, 0]\n",
    "\n",
    "image = tf.expand_dims(image, axis=-1)\n",
    "result = tf.expand_dims(result, axis=-1)"
   ]
  },
  {
   "cell_type": "code",
   "execution_count": null,
   "metadata": {
    "execution": {
     "iopub.execute_input": "2024-05-06T14:22:12.198153Z",
     "iopub.status.busy": "2024-05-06T14:22:12.196880Z",
     "iopub.status.idle": "2024-05-06T14:22:12.223927Z",
     "shell.execute_reply": "2024-05-06T14:22:12.223214Z",
     "shell.execute_reply.started": "2024-05-06T14:22:12.198112Z"
    },
    "tags": []
   },
   "outputs": [],
   "source": [
    "tf.image.ssim(image, result, max_val=1)"
   ]
  },
  {
   "cell_type": "code",
   "execution_count": null,
   "metadata": {
    "execution": {
     "iopub.execute_input": "2024-05-06T14:22:12.225108Z",
     "iopub.status.busy": "2024-05-06T14:22:12.224793Z",
     "iopub.status.idle": "2024-05-06T14:22:12.452369Z",
     "shell.execute_reply": "2024-05-06T14:22:12.451506Z",
     "shell.execute_reply.started": "2024-05-06T14:22:12.225084Z"
    },
    "tags": []
   },
   "outputs": [],
   "source": [
    "tf.image.ssim_multiscale(image, result, max_val=1)"
   ]
  },
  {
   "cell_type": "code",
   "execution_count": null,
   "metadata": {
    "execution": {
     "iopub.execute_input": "2024-05-06T14:22:12.453492Z",
     "iopub.status.busy": "2024-05-06T14:22:12.453259Z",
     "iopub.status.idle": "2024-05-06T14:22:12.462681Z",
     "shell.execute_reply": "2024-05-06T14:22:12.462070Z",
     "shell.execute_reply.started": "2024-05-06T14:22:12.453470Z"
    },
    "tags": []
   },
   "outputs": [],
   "source": [
    "tf.image.psnr(image, result, max_val=1)"
   ]
  },
  {
   "cell_type": "code",
   "execution_count": null,
   "metadata": {
    "execution": {
     "iopub.execute_input": "2024-05-06T14:22:12.463848Z",
     "iopub.status.busy": "2024-05-06T14:22:12.463550Z",
     "iopub.status.idle": "2024-05-06T14:22:24.819478Z",
     "shell.execute_reply": "2024-05-06T14:22:24.818738Z",
     "shell.execute_reply.started": "2024-05-06T14:22:12.463828Z"
    },
    "tags": []
   },
   "outputs": [],
   "source": [
    "benchmark_directory = \"data/benchmark/\"\n",
    "benchmark_images = tf.io.gfile.glob(benchmark_directory + \"*.png\")\n",
    "\n",
    "psnrs = []\n",
    "ssims = []\n",
    "ms_ssims = []\n",
    "rates = []\n",
    "\n",
    "for image_path in benchmark_images:\n",
    "    image = tf.image.decode_image(tf.io.read_file(image_path), channels=3, dtype='float32')\n",
    "    image_copy = image\n",
    "    result, strings, entropies = compress_image(image_copy, compressor, decompressor)\n",
    "    \n",
    "    # flatten the strings\n",
    "    strings = np.reshape(strings, np.prod(strings.shape))\n",
    "    strings = np.squeeze(strings)\n",
    "    \n",
    "    # calculate the size of the compressed image\n",
    "    pixels = tf.cast(tf.reduce_prod(tf.shape(image)[-3:-1]), tf.float32)\n",
    "    bits = sum([len(s) * 8 for s in strings])\n",
    "\n",
    "    # calculate the compression ratio\n",
    "    compression_ratio = bits / pixels\n",
    "\n",
    "    image = tf.saturate_cast(tf.round(image * 255), tf.uint8)\n",
    "    plt.figure(figsize=(10, 5))\n",
    "    plt.subplot(1, 3, 1)\n",
    "    plt.imshow(tf.squeeze(image))\n",
    "    plt.axis(\"off\")\n",
    "\n",
    "    plt.subplot(1, 3, 2)\n",
    "    plt.imshow(tf.squeeze(result))\n",
    "    plt.axis(\"off\")\n",
    "\n",
    "    image = tf.cast(image, tf.float64) / 255.\n",
    "    result = tf.cast(result, tf.float64) / 255.\n",
    "\n",
    "    image_yuv = tf.image.rgb_to_yuv(image)\n",
    "    result_yuv = tf.image.rgb_to_yuv(result)\n",
    "\n",
    "    image = image_yuv[:, :, 0]\n",
    "    result = result_yuv[:, :, 0]\n",
    "\n",
    "    image = tf.expand_dims(image, axis=-1)\n",
    "    result = tf.expand_dims(result, axis=-1)\n",
    "\n",
    "    ssim = tf.image.ssim(image, result, max_val=1)\n",
    "    ms_ssim = tf.image.ssim_multiscale(image, result, max_val=1)\n",
    "    psnr = tf.image.psnr(image_yuv, result_yuv, max_val=1)\n",
    "\n",
    "    # show ssim, ms-ssim and psnr on the plot\n",
    "    plt.subplot(1, 3, 3)\n",
    "    plt.text(0, 0.2, f\"SSIM: {ssim.numpy():.4f}\", fontsize=12, color='red')\n",
    "    plt.text(0, 0.4, f\"MS-SSIM: {ms_ssim.numpy():.4f}\", fontsize=12, color='red')\n",
    "    plt.text(0, 0.6, f\"PSNR: {psnr.numpy():.4f}\", fontsize=12, color='red')\n",
    "    plt.text(0, 0.8, f\"Compression Ratio: {compression_ratio.numpy():.4f}\", fontsize=12, color='red')\n",
    "    plt.axis(\"off\")\n",
    "    # center the text vertically\n",
    "    plt.tight_layout()\n",
    "\n",
    "    ssims.append(ssim)\n",
    "    ms_ssims.append(ms_ssim)\n",
    "    psnrs.append(psnr)\n",
    "    rates.append(compression_ratio.numpy())\n",
    "\n",
    "    plt.show()\n",
    "\n",
    "print(f\"Average SSIM: {np.mean(ssims):.4f}\")\n",
    "print(f\"Average MS-SSIM: {np.mean(ms_ssims):.4f}\")\n",
    "print(f\"Average PSNR: {np.mean(psnrs):.4f}\")\n",
    "print(f\"Average bpp: {np.mean(rates):.4f}\")"
   ]
  },
  {
   "cell_type": "code",
   "execution_count": null,
   "metadata": {},
   "outputs": [],
   "source": []
  },
  {
   "cell_type": "code",
   "execution_count": null,
   "metadata": {},
   "outputs": [],
   "source": []
  }
 ],
 "metadata": {
  "kernelspec": {
   "display_name": "saturn (Python 3)",
   "language": "python",
   "name": "python3"
  },
  "language_info": {
   "codemirror_mode": {
    "name": "ipython",
    "version": 3
   },
   "file_extension": ".py",
   "mimetype": "text/x-python",
   "name": "python",
   "nbconvert_exporter": "python",
   "pygments_lexer": "ipython3",
   "version": "3.10.13"
  }
 },
 "nbformat": 4,
 "nbformat_minor": 4
}
